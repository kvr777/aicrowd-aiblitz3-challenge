{
 "metadata": {
  "language_info": {
   "codemirror_mode": {
    "name": "ipython",
    "version": 3
   },
   "file_extension": ".py",
   "mimetype": "text/x-python",
   "name": "python",
   "nbconvert_exporter": "python",
   "pygments_lexer": "ipython3",
   "version": "3.8.2-final"
  },
  "orig_nbformat": 2,
  "kernelspec": {
   "name": "python_defaultSpec_1600101242092",
   "display_name": "Python 3.8.2 64-bit"
  }
 },
 "nbformat": 4,
 "nbformat_minor": 2,
 "cells": [
  {
   "source": [
    "## Final step for sudoku solver solution - fill missed digits in sudoku field"
   ],
   "cell_type": "markdown",
   "metadata": {}
  },
  {
   "cell_type": "code",
   "execution_count": 1,
   "metadata": {},
   "outputs": [],
   "source": [
    "%load_ext autoreload\n",
    "%autoreload 2"
   ]
  },
  {
   "cell_type": "code",
   "execution_count": 57,
   "metadata": {},
   "outputs": [],
   "source": [
    "import pandas as pd\n",
    "import numpy as np\n",
    "from solver_one_sudoku import sudoku_solver\n",
    "from tqdm import tqdm"
   ]
  },
  {
   "cell_type": "code",
   "execution_count": 129,
   "metadata": {},
   "outputs": [],
   "source": [
    "IMG_DIR = \"data/test/images\"\n",
    "img_files = os.listdir(IMG_DIR)"
   ]
  },
  {
   "cell_type": "code",
   "execution_count": 130,
   "metadata": {},
   "outputs": [
    {
     "output_type": "execute_result",
     "data": {
      "text/plain": "         id  preds\n0  3074_0_0      3\n1  3074_0_3      6\n2  3074_0_4      7\n3  3074_0_8      2\n4  3074_1_0      5",
      "text/html": "<div>\n<style scoped>\n    .dataframe tbody tr th:only-of-type {\n        vertical-align: middle;\n    }\n\n    .dataframe tbody tr th {\n        vertical-align: top;\n    }\n\n    .dataframe thead th {\n        text-align: right;\n    }\n</style>\n<table border=\"1\" class=\"dataframe\">\n  <thead>\n    <tr style=\"text-align: right;\">\n      <th></th>\n      <th>id</th>\n      <th>preds</th>\n    </tr>\n  </thead>\n  <tbody>\n    <tr>\n      <th>0</th>\n      <td>3074_0_0</td>\n      <td>3</td>\n    </tr>\n    <tr>\n      <th>1</th>\n      <td>3074_0_3</td>\n      <td>6</td>\n    </tr>\n    <tr>\n      <th>2</th>\n      <td>3074_0_4</td>\n      <td>7</td>\n    </tr>\n    <tr>\n      <th>3</th>\n      <td>3074_0_8</td>\n      <td>2</td>\n    </tr>\n    <tr>\n      <th>4</th>\n      <td>3074_1_0</td>\n      <td>5</td>\n    </tr>\n  </tbody>\n</table>\n</div>"
     },
     "metadata": {},
     "execution_count": 130
    }
   ],
   "source": [
    "preds_df = pd.read_csv('data/test_classification_preds.csv')\n",
    "preds_df.head()"
   ]
  },
  {
   "cell_type": "code",
   "execution_count": 131,
   "metadata": {},
   "outputs": [
    {
     "output_type": "execute_result",
     "data": {
      "text/plain": "         id  preds fname row col\n0  3074_0_0      3  3074   0   0\n1  3074_0_3      6  3074   0   3\n2  3074_0_4      7  3074   0   4\n3  3074_0_8      2  3074   0   8\n4  3074_1_0      5  3074   1   0",
      "text/html": "<div>\n<style scoped>\n    .dataframe tbody tr th:only-of-type {\n        vertical-align: middle;\n    }\n\n    .dataframe tbody tr th {\n        vertical-align: top;\n    }\n\n    .dataframe thead th {\n        text-align: right;\n    }\n</style>\n<table border=\"1\" class=\"dataframe\">\n  <thead>\n    <tr style=\"text-align: right;\">\n      <th></th>\n      <th>id</th>\n      <th>preds</th>\n      <th>fname</th>\n      <th>row</th>\n      <th>col</th>\n    </tr>\n  </thead>\n  <tbody>\n    <tr>\n      <th>0</th>\n      <td>3074_0_0</td>\n      <td>3</td>\n      <td>3074</td>\n      <td>0</td>\n      <td>0</td>\n    </tr>\n    <tr>\n      <th>1</th>\n      <td>3074_0_3</td>\n      <td>6</td>\n      <td>3074</td>\n      <td>0</td>\n      <td>3</td>\n    </tr>\n    <tr>\n      <th>2</th>\n      <td>3074_0_4</td>\n      <td>7</td>\n      <td>3074</td>\n      <td>0</td>\n      <td>4</td>\n    </tr>\n    <tr>\n      <th>3</th>\n      <td>3074_0_8</td>\n      <td>2</td>\n      <td>3074</td>\n      <td>0</td>\n      <td>8</td>\n    </tr>\n    <tr>\n      <th>4</th>\n      <td>3074_1_0</td>\n      <td>5</td>\n      <td>3074</td>\n      <td>1</td>\n      <td>0</td>\n    </tr>\n  </tbody>\n</table>\n</div>"
     },
     "metadata": {},
     "execution_count": 131
    }
   ],
   "source": [
    "preds_df['fname'] = preds_df[\"id\"].apply(lambda x: x.split(\"_\")[0])\n",
    "preds_df['row'] = preds_df[\"id\"].apply(lambda x: x.split(\"_\")[1])\n",
    "preds_df['col'] = preds_df[\"id\"].apply(lambda x: x.split(\"_\")[2])\n",
    "preds_df.head()"
   ]
  },
  {
   "cell_type": "code",
   "execution_count": 132,
   "metadata": {},
   "outputs": [],
   "source": [
    "def get_partial_matrix(img_name):\n",
    "    res = np.zeros((9, 9))\n",
    "    idxs = list(preds_df.loc[preds_df.fname==img_name].index)\n",
    "    for idx in idxs:\n",
    "        row, col, pred = preds_df.iloc[idx][[\"row\", \"col\", \"preds\"]]\n",
    "        res[int(row)][int(col)] = pred\n",
    "    return res"
   ]
  },
  {
   "cell_type": "code",
   "execution_count": 134,
   "metadata": {
    "tags": []
   },
   "outputs": [
    {
     "output_type": "execute_result",
     "data": {
      "text/plain": "array([[3., 0., 0., 6., 7., 0., 0., 0., 2.],\n       [5., 7., 0., 9., 0., 0., 0., 0., 0.],\n       [0., 6., 9., 0., 1., 0., 0., 0., 0.],\n       [0., 5., 0., 0., 9., 0., 0., 1., 3.],\n       [0., 0., 0., 0., 0., 0., 0., 0., 0.],\n       [6., 9., 0., 0., 5., 0., 0., 7., 0.],\n       [0., 0., 0., 0., 6., 0., 4., 2., 0.],\n       [0., 0., 0., 0., 0., 7., 0., 9., 1.],\n       [9., 0., 0., 0., 8., 1., 0., 0., 6.]])"
     },
     "metadata": {},
     "execution_count": 134
    }
   ],
   "source": [
    "res = get_partial_matrix(img_files[0].split(\".\")[0])\n",
    "res"
   ]
  },
  {
   "cell_type": "code",
   "execution_count": 135,
   "metadata": {
    "tags": []
   },
   "outputs": [
    {
     "output_type": "stream",
     "name": "stderr",
     "text": "100%|██████████| 5001/5001 [1:11:22<00:00,  1.17it/s]\n"
    }
   ],
   "source": [
    "out_dct = {\"id\": [], \"solution_pred\": []}\n",
    "for fname in tqdm(img_files):\n",
    "    fname = fname.split(\".\")[0]\n",
    "    mat = get_partial_matrix(fname)\n",
    "    res = sudoku_solver(mat)\n",
    "    out_dct[\"id\"].append(fname)\n",
    "    out_dct[\"solution_pred\"].append(res)\n",
    "\n",
    "res_pd = pd.DataFrame.from_dict(out_dct)\n",
    "res_pd.to_csv(\"data/test_labels_preds.csv\", index=False)"
   ]
  }
 ]
}